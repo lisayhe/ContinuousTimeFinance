{
 "cells": [
  {
   "cell_type": "code",
   "execution_count": 14,
   "metadata": {},
   "outputs": [
    {
     "name": "stdout",
     "output_type": "stream",
     "text": [
      "0.8294425660591415\n",
      "7.152973488994104\n"
     ]
    }
   ],
   "source": [
    "from scipy.stats import norm\n",
    "import numpy\n",
    "import math\n",
    "\n",
    "# Process parameters\n",
    "dt = 1/252\n",
    "\n",
    "# Initial condition.\n",
    "x = 0.0\n",
    "\n",
    "# Number of iterations to compute.\n",
    "n = 5*252\n",
    "\n",
    "my_result = []\n",
    "\n",
    "N = 10\n",
    "# Iterate to compute the steps of the Brownian motion.\n",
    "for i in range(0,N):\n",
    "    x = 0.0\n",
    "    for k in range(n):\n",
    "        x = x + norm.rvs(scale=math.sqrt(dt))\n",
    "    my_result.append(x)\n",
    "print(numpy.mean(my_result))\n",
    "print(numpy.var(my_result))"
   ]
  },
  {
   "cell_type": "code",
   "execution_count": 15,
   "metadata": {},
   "outputs": [
    {
     "name": "stdout",
     "output_type": "stream",
     "text": [
      "-0.07749049721604062\n",
      "4.748768294586135\n"
     ]
    }
   ],
   "source": [
    "from scipy.stats import norm\n",
    "import numpy\n",
    "\n",
    "# Process parameters\n",
    "dt = 1/252\n",
    "\n",
    "# Initial condition.\n",
    "x = 0.0\n",
    "\n",
    "# Number of iterations to compute.\n",
    "n = 5*252\n",
    "\n",
    "my_result = []\n",
    "\n",
    "N = 100\n",
    "# Iterate to compute the steps of the Brownian motion.\n",
    "for i in range(0,N):\n",
    "    x = 0.0\n",
    "    for k in range(n):\n",
    "        x = x + norm.rvs(scale=math.sqrt(dt))\n",
    "    my_result.append(x)\n",
    "print(numpy.mean(my_result))\n",
    "print(numpy.var(my_result))"
   ]
  },
  {
   "cell_type": "code",
   "execution_count": 16,
   "metadata": {},
   "outputs": [
    {
     "name": "stdout",
     "output_type": "stream",
     "text": [
      "-0.0102863304098857\n",
      "5.1471781400403005\n"
     ]
    }
   ],
   "source": [
    "from scipy.stats import norm\n",
    "import numpy\n",
    "\n",
    "# Process parameters\n",
    "dt = 1/252\n",
    "\n",
    "# Initial condition.\n",
    "x = 0.0\n",
    "\n",
    "# Number of iterations to compute.\n",
    "n = 5*252\n",
    "\n",
    "my_result = []\n",
    "\n",
    "N = 1000\n",
    "# Iterate to compute the steps of the Brownian motion.\n",
    "for i in range(0,N):\n",
    "    x = 0.0\n",
    "    for k in range(n):\n",
    "        x = x + norm.rvs(scale=math.sqrt(dt))\n",
    "    my_result.append(x)\n",
    "print(numpy.mean(my_result))\n",
    "print(numpy.var(my_result))"
   ]
  },
  {
   "cell_type": "code",
   "execution_count": null,
   "metadata": {},
   "outputs": [],
   "source": []
  }
 ],
 "metadata": {
  "kernelspec": {
   "display_name": "Python 3",
   "language": "python",
   "name": "python3"
  },
  "language_info": {
   "codemirror_mode": {
    "name": "ipython",
    "version": 3
   },
   "file_extension": ".py",
   "mimetype": "text/x-python",
   "name": "python",
   "nbconvert_exporter": "python",
   "pygments_lexer": "ipython3",
   "version": "3.6.5"
  }
 },
 "nbformat": 4,
 "nbformat_minor": 2
}
